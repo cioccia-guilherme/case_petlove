{
  "nbformat": 4,
  "nbformat_minor": 0,
  "metadata": {
    "colab": {
      "provenance": [],
      "toc_visible": true,
      "authorship_tag": "ABX9TyMK6TBZ6YLWMJyw2pxXrIuq",
      "include_colab_link": true
    },
    "kernelspec": {
      "name": "python3",
      "display_name": "Python 3"
    },
    "language_info": {
      "name": "python"
    }
  },
  "cells": [
    {
      "cell_type": "markdown",
      "metadata": {
        "id": "view-in-github",
        "colab_type": "text"
      },
      "source": [
        "<a href=\"https://colab.research.google.com/github/cioccia-guilherme/case_petlove/blob/main/case_data_analysis.ipynb\" target=\"_parent\"><img src=\"https://colab.research.google.com/assets/colab-badge.svg\" alt=\"Open In Colab\"/></a>"
      ]
    },
    {
      "cell_type": "markdown",
      "source": [
        "# Preparação do Ambiente de Análise"
      ],
      "metadata": {
        "id": "8cthTfOQlLu_"
      }
    },
    {
      "cell_type": "markdown",
      "source": [
        "Para esta análise, o conjunto de dados do case foi disponibilizado em uma pasta no google drive."
      ],
      "metadata": {
        "id": "aNXmFT0wl5OB"
      }
    },
    {
      "cell_type": "code",
      "execution_count": 2,
      "metadata": {
        "colab": {
          "base_uri": "https://localhost:8080/"
        },
        "id": "uk9BfFiY9aZP",
        "outputId": "e511a4d7-b509-4ffd-87bb-764b865f7ad5"
      },
      "outputs": [
        {
          "output_type": "stream",
          "name": "stdout",
          "text": [
            "Mounted at /content/drive\n"
          ]
        }
      ],
      "source": [
        "from google.colab import drive\n",
        "drive.mount('/content/drive', force_remount=True)"
      ]
    },
    {
      "cell_type": "markdown",
      "source": [
        "# Importação dataset bruto"
      ],
      "metadata": {
        "id": "5T_Lqk7zl6gS"
      }
    },
    {
      "cell_type": "code",
      "source": [
        "import pandas as pd\n",
        "import numpy as np"
      ],
      "metadata": {
        "id": "Fd7o2pSi9cpA"
      },
      "execution_count": 3,
      "outputs": []
    },
    {
      "cell_type": "code",
      "source": [
        "path = r\"/content/drive/MyDrive/Documentos/case_petlove/\""
      ],
      "metadata": {
        "id": "Z7Pnyi8Kap99"
      },
      "execution_count": 4,
      "outputs": []
    },
    {
      "cell_type": "code",
      "source": [
        "df_case_raw = pd.read_csv(\n",
        "    path + r\"data-test-analytics.csv\"\n",
        "    , sep = ','\n",
        "    )"
      ],
      "metadata": {
        "id": "OLG_OsgKJwCd"
      },
      "execution_count": 5,
      "outputs": []
    },
    {
      "cell_type": "markdown",
      "source": [
        "# Exploração inicial do dataset"
      ],
      "metadata": {
        "id": "U3_9xtqCmr9o"
      }
    },
    {
      "cell_type": "markdown",
      "source": [
        "Visualização básica"
      ],
      "metadata": {
        "id": "L7gcnPoOm7A8"
      }
    },
    {
      "cell_type": "code",
      "source": [
        "df_case_raw.head()"
      ],
      "metadata": {
        "colab": {
          "base_uri": "https://localhost:8080/",
          "height": 513
        },
        "id": "b5bkHgS9m6c4",
        "outputId": "b164f0aa-59d8-4578-ee43-ec652db3461c"
      },
      "execution_count": 6,
      "outputs": [
        {
          "output_type": "execute_result",
          "data": {
            "text/plain": [
              "                                     id         created_at         updated_at  \\\n",
              "0  8bf7960e-3b93-468b-856e-6c6c5b56f52b  08/15/17 07:05 AM  01/14/21 11:23 AM   \n",
              "1  a39535b5-4647-4680-b4f6-3aed57c1f1ff  12/31/19 09:53 PM  01/08/21 11:23 AM   \n",
              "2  dc067cd2-c021-42bd-8c0e-beb267280e66  03/07/19 11:46 PM  01/07/21 11:23 AM   \n",
              "3  b5e4caeb-3a9b-49ed-aa33-5acd06b162c1  07/21/18 10:17 AM  01/10/21 11:23 AM   \n",
              "4  d4ff61fc-f008-4e19-b8ae-bd70cfa3ae27  06/08/18 12:09 PM  01/18/21 11:23 AM   \n",
              "\n",
              "  deleted_at                         name_hash  \\\n",
              "0        NaN  312d206168a318614897e8ccac43bff9   \n",
              "1        NaN  de448fcb47d0d6a873b2eef52b5ee595   \n",
              "2        NaN  cb09e447ddc38283373d56bb46498e6a   \n",
              "3        NaN  52593437a405b11b3557170680ef80c8   \n",
              "4        NaN  dbda4b778a966c21904238ed2d2005db   \n",
              "\n",
              "                         email_hash                      address_hash  \\\n",
              "0  83eb3aed9a44377df80ce876dce92c9a  8b4bfaa0cbc41a16f46da15ddcd6a907   \n",
              "1  72678bb35e2ac84ed373e81dd9dca28c  22f1cfa1847f38da3f3cb114dd2b9247   \n",
              "2  668f4ee9add29c7bd02c485f1b7509e3  6cb47446a086ee6483b3eb954f11467a   \n",
              "3  d3fb45188d95c8d7cc49da5b4f727c86  0a6f0c54db1e6f19347f96b50f8092a4   \n",
              "4  a0f76bc49b4c43327b536da6e1a1465e  143b9f169b4fa1692f6d79b5682169b5   \n",
              "\n",
              "          birth_date  status  version               city state  \\\n",
              "0  07/10/74 12:00 AM  active   2.31.7   Peixoto da Praia    AM   \n",
              "1  07/06/40 12:00 AM  paused  3.30.12          Fernandes    RR   \n",
              "2  03/18/63 12:00 AM  active   3.28.9              Lopes    RR   \n",
              "3  11/21/80 12:00 AM  active   3.34.3    Campos do Campo    PE   \n",
              "4  07/07/59 12:00 AM  active   3.19.8          das Neves    RJ   \n",
              "\n",
              "                neighborhood last_date_purchase  average_ticket  \\\n",
              "0         Aparecida 7ª Seção  01/14/21 11:23 AM      151.142942   \n",
              "1               Santa Isabel  01/08/21 11:23 AM      236.991790   \n",
              "2                    Estrela  01/07/21 11:23 AM      211.955597   \n",
              "3                   Confisco  01/10/21 11:23 AM      204.113227   \n",
              "4  Vila Suzana Segunda Seção  01/18/21 11:23 AM      252.940997   \n",
              "\n",
              "   items_quantity  all_revenue  all_orders  recency marketing_source  \n",
              "0              10   906.857651           6       35              crm  \n",
              "1               4   236.991790           1       41   organic_search  \n",
              "2              13  2331.511572          11       42   organic_search  \n",
              "3               8  1224.679359           6       39   organic_search  \n",
              "4               9  2023.527980           8       31              crm  "
            ],
            "text/html": [
              "\n",
              "  <div id=\"df-203ca627-fb53-4f83-b2cb-dcc9f2b9f6ed\">\n",
              "    <div class=\"colab-df-container\">\n",
              "      <div>\n",
              "<style scoped>\n",
              "    .dataframe tbody tr th:only-of-type {\n",
              "        vertical-align: middle;\n",
              "    }\n",
              "\n",
              "    .dataframe tbody tr th {\n",
              "        vertical-align: top;\n",
              "    }\n",
              "\n",
              "    .dataframe thead th {\n",
              "        text-align: right;\n",
              "    }\n",
              "</style>\n",
              "<table border=\"1\" class=\"dataframe\">\n",
              "  <thead>\n",
              "    <tr style=\"text-align: right;\">\n",
              "      <th></th>\n",
              "      <th>id</th>\n",
              "      <th>created_at</th>\n",
              "      <th>updated_at</th>\n",
              "      <th>deleted_at</th>\n",
              "      <th>name_hash</th>\n",
              "      <th>email_hash</th>\n",
              "      <th>address_hash</th>\n",
              "      <th>birth_date</th>\n",
              "      <th>status</th>\n",
              "      <th>version</th>\n",
              "      <th>city</th>\n",
              "      <th>state</th>\n",
              "      <th>neighborhood</th>\n",
              "      <th>last_date_purchase</th>\n",
              "      <th>average_ticket</th>\n",
              "      <th>items_quantity</th>\n",
              "      <th>all_revenue</th>\n",
              "      <th>all_orders</th>\n",
              "      <th>recency</th>\n",
              "      <th>marketing_source</th>\n",
              "    </tr>\n",
              "  </thead>\n",
              "  <tbody>\n",
              "    <tr>\n",
              "      <th>0</th>\n",
              "      <td>8bf7960e-3b93-468b-856e-6c6c5b56f52b</td>\n",
              "      <td>08/15/17 07:05 AM</td>\n",
              "      <td>01/14/21 11:23 AM</td>\n",
              "      <td>NaN</td>\n",
              "      <td>312d206168a318614897e8ccac43bff9</td>\n",
              "      <td>83eb3aed9a44377df80ce876dce92c9a</td>\n",
              "      <td>8b4bfaa0cbc41a16f46da15ddcd6a907</td>\n",
              "      <td>07/10/74 12:00 AM</td>\n",
              "      <td>active</td>\n",
              "      <td>2.31.7</td>\n",
              "      <td>Peixoto da Praia</td>\n",
              "      <td>AM</td>\n",
              "      <td>Aparecida 7ª Seção</td>\n",
              "      <td>01/14/21 11:23 AM</td>\n",
              "      <td>151.142942</td>\n",
              "      <td>10</td>\n",
              "      <td>906.857651</td>\n",
              "      <td>6</td>\n",
              "      <td>35</td>\n",
              "      <td>crm</td>\n",
              "    </tr>\n",
              "    <tr>\n",
              "      <th>1</th>\n",
              "      <td>a39535b5-4647-4680-b4f6-3aed57c1f1ff</td>\n",
              "      <td>12/31/19 09:53 PM</td>\n",
              "      <td>01/08/21 11:23 AM</td>\n",
              "      <td>NaN</td>\n",
              "      <td>de448fcb47d0d6a873b2eef52b5ee595</td>\n",
              "      <td>72678bb35e2ac84ed373e81dd9dca28c</td>\n",
              "      <td>22f1cfa1847f38da3f3cb114dd2b9247</td>\n",
              "      <td>07/06/40 12:00 AM</td>\n",
              "      <td>paused</td>\n",
              "      <td>3.30.12</td>\n",
              "      <td>Fernandes</td>\n",
              "      <td>RR</td>\n",
              "      <td>Santa Isabel</td>\n",
              "      <td>01/08/21 11:23 AM</td>\n",
              "      <td>236.991790</td>\n",
              "      <td>4</td>\n",
              "      <td>236.991790</td>\n",
              "      <td>1</td>\n",
              "      <td>41</td>\n",
              "      <td>organic_search</td>\n",
              "    </tr>\n",
              "    <tr>\n",
              "      <th>2</th>\n",
              "      <td>dc067cd2-c021-42bd-8c0e-beb267280e66</td>\n",
              "      <td>03/07/19 11:46 PM</td>\n",
              "      <td>01/07/21 11:23 AM</td>\n",
              "      <td>NaN</td>\n",
              "      <td>cb09e447ddc38283373d56bb46498e6a</td>\n",
              "      <td>668f4ee9add29c7bd02c485f1b7509e3</td>\n",
              "      <td>6cb47446a086ee6483b3eb954f11467a</td>\n",
              "      <td>03/18/63 12:00 AM</td>\n",
              "      <td>active</td>\n",
              "      <td>3.28.9</td>\n",
              "      <td>Lopes</td>\n",
              "      <td>RR</td>\n",
              "      <td>Estrela</td>\n",
              "      <td>01/07/21 11:23 AM</td>\n",
              "      <td>211.955597</td>\n",
              "      <td>13</td>\n",
              "      <td>2331.511572</td>\n",
              "      <td>11</td>\n",
              "      <td>42</td>\n",
              "      <td>organic_search</td>\n",
              "    </tr>\n",
              "    <tr>\n",
              "      <th>3</th>\n",
              "      <td>b5e4caeb-3a9b-49ed-aa33-5acd06b162c1</td>\n",
              "      <td>07/21/18 10:17 AM</td>\n",
              "      <td>01/10/21 11:23 AM</td>\n",
              "      <td>NaN</td>\n",
              "      <td>52593437a405b11b3557170680ef80c8</td>\n",
              "      <td>d3fb45188d95c8d7cc49da5b4f727c86</td>\n",
              "      <td>0a6f0c54db1e6f19347f96b50f8092a4</td>\n",
              "      <td>11/21/80 12:00 AM</td>\n",
              "      <td>active</td>\n",
              "      <td>3.34.3</td>\n",
              "      <td>Campos do Campo</td>\n",
              "      <td>PE</td>\n",
              "      <td>Confisco</td>\n",
              "      <td>01/10/21 11:23 AM</td>\n",
              "      <td>204.113227</td>\n",
              "      <td>8</td>\n",
              "      <td>1224.679359</td>\n",
              "      <td>6</td>\n",
              "      <td>39</td>\n",
              "      <td>organic_search</td>\n",
              "    </tr>\n",
              "    <tr>\n",
              "      <th>4</th>\n",
              "      <td>d4ff61fc-f008-4e19-b8ae-bd70cfa3ae27</td>\n",
              "      <td>06/08/18 12:09 PM</td>\n",
              "      <td>01/18/21 11:23 AM</td>\n",
              "      <td>NaN</td>\n",
              "      <td>dbda4b778a966c21904238ed2d2005db</td>\n",
              "      <td>a0f76bc49b4c43327b536da6e1a1465e</td>\n",
              "      <td>143b9f169b4fa1692f6d79b5682169b5</td>\n",
              "      <td>07/07/59 12:00 AM</td>\n",
              "      <td>active</td>\n",
              "      <td>3.19.8</td>\n",
              "      <td>das Neves</td>\n",
              "      <td>RJ</td>\n",
              "      <td>Vila Suzana Segunda Seção</td>\n",
              "      <td>01/18/21 11:23 AM</td>\n",
              "      <td>252.940997</td>\n",
              "      <td>9</td>\n",
              "      <td>2023.527980</td>\n",
              "      <td>8</td>\n",
              "      <td>31</td>\n",
              "      <td>crm</td>\n",
              "    </tr>\n",
              "  </tbody>\n",
              "</table>\n",
              "</div>\n",
              "      <button class=\"colab-df-convert\" onclick=\"convertToInteractive('df-203ca627-fb53-4f83-b2cb-dcc9f2b9f6ed')\"\n",
              "              title=\"Convert this dataframe to an interactive table.\"\n",
              "              style=\"display:none;\">\n",
              "        \n",
              "  <svg xmlns=\"http://www.w3.org/2000/svg\" height=\"24px\"viewBox=\"0 0 24 24\"\n",
              "       width=\"24px\">\n",
              "    <path d=\"M0 0h24v24H0V0z\" fill=\"none\"/>\n",
              "    <path d=\"M18.56 5.44l.94 2.06.94-2.06 2.06-.94-2.06-.94-.94-2.06-.94 2.06-2.06.94zm-11 1L8.5 8.5l.94-2.06 2.06-.94-2.06-.94L8.5 2.5l-.94 2.06-2.06.94zm10 10l.94 2.06.94-2.06 2.06-.94-2.06-.94-.94-2.06-.94 2.06-2.06.94z\"/><path d=\"M17.41 7.96l-1.37-1.37c-.4-.4-.92-.59-1.43-.59-.52 0-1.04.2-1.43.59L10.3 9.45l-7.72 7.72c-.78.78-.78 2.05 0 2.83L4 21.41c.39.39.9.59 1.41.59.51 0 1.02-.2 1.41-.59l7.78-7.78 2.81-2.81c.8-.78.8-2.07 0-2.86zM5.41 20L4 18.59l7.72-7.72 1.47 1.35L5.41 20z\"/>\n",
              "  </svg>\n",
              "      </button>\n",
              "      \n",
              "  <style>\n",
              "    .colab-df-container {\n",
              "      display:flex;\n",
              "      flex-wrap:wrap;\n",
              "      gap: 12px;\n",
              "    }\n",
              "\n",
              "    .colab-df-convert {\n",
              "      background-color: #E8F0FE;\n",
              "      border: none;\n",
              "      border-radius: 50%;\n",
              "      cursor: pointer;\n",
              "      display: none;\n",
              "      fill: #1967D2;\n",
              "      height: 32px;\n",
              "      padding: 0 0 0 0;\n",
              "      width: 32px;\n",
              "    }\n",
              "\n",
              "    .colab-df-convert:hover {\n",
              "      background-color: #E2EBFA;\n",
              "      box-shadow: 0px 1px 2px rgba(60, 64, 67, 0.3), 0px 1px 3px 1px rgba(60, 64, 67, 0.15);\n",
              "      fill: #174EA6;\n",
              "    }\n",
              "\n",
              "    [theme=dark] .colab-df-convert {\n",
              "      background-color: #3B4455;\n",
              "      fill: #D2E3FC;\n",
              "    }\n",
              "\n",
              "    [theme=dark] .colab-df-convert:hover {\n",
              "      background-color: #434B5C;\n",
              "      box-shadow: 0px 1px 3px 1px rgba(0, 0, 0, 0.15);\n",
              "      filter: drop-shadow(0px 1px 2px rgba(0, 0, 0, 0.3));\n",
              "      fill: #FFFFFF;\n",
              "    }\n",
              "  </style>\n",
              "\n",
              "      <script>\n",
              "        const buttonEl =\n",
              "          document.querySelector('#df-203ca627-fb53-4f83-b2cb-dcc9f2b9f6ed button.colab-df-convert');\n",
              "        buttonEl.style.display =\n",
              "          google.colab.kernel.accessAllowed ? 'block' : 'none';\n",
              "\n",
              "        async function convertToInteractive(key) {\n",
              "          const element = document.querySelector('#df-203ca627-fb53-4f83-b2cb-dcc9f2b9f6ed');\n",
              "          const dataTable =\n",
              "            await google.colab.kernel.invokeFunction('convertToInteractive',\n",
              "                                                     [key], {});\n",
              "          if (!dataTable) return;\n",
              "\n",
              "          const docLinkHtml = 'Like what you see? Visit the ' +\n",
              "            '<a target=\"_blank\" href=https://colab.research.google.com/notebooks/data_table.ipynb>data table notebook</a>'\n",
              "            + ' to learn more about interactive tables.';\n",
              "          element.innerHTML = '';\n",
              "          dataTable['output_type'] = 'display_data';\n",
              "          await google.colab.output.renderOutput(dataTable, element);\n",
              "          const docLink = document.createElement('div');\n",
              "          docLink.innerHTML = docLinkHtml;\n",
              "          element.appendChild(docLink);\n",
              "        }\n",
              "      </script>\n",
              "    </div>\n",
              "  </div>\n",
              "  "
            ]
          },
          "metadata": {},
          "execution_count": 6
        }
      ]
    },
    {
      "cell_type": "markdown",
      "source": [
        "Tamanho (linhas x colunas)"
      ],
      "metadata": {
        "id": "ooIpW1o7mvNq"
      }
    },
    {
      "cell_type": "code",
      "source": [
        "df_case_raw.shape"
      ],
      "metadata": {
        "colab": {
          "base_uri": "https://localhost:8080/"
        },
        "id": "qbmVpfLnmuog",
        "outputId": "6bb148cc-3a2a-4e4e-b106-53664e36aa52"
      },
      "execution_count": 7,
      "outputs": [
        {
          "output_type": "execute_result",
          "data": {
            "text/plain": [
              "(10000, 20)"
            ]
          },
          "metadata": {},
          "execution_count": 7
        }
      ]
    },
    {
      "cell_type": "markdown",
      "source": [
        "Tipos das colunas"
      ],
      "metadata": {
        "id": "gHp1aOCim3Ws"
      }
    },
    {
      "cell_type": "code",
      "source": [
        "df_case_raw.dtypes"
      ],
      "metadata": {
        "colab": {
          "base_uri": "https://localhost:8080/"
        },
        "id": "rmL6sEgNm11z",
        "outputId": "84dd9627-5b67-487a-c1e1-d9931bc82609"
      },
      "execution_count": 8,
      "outputs": [
        {
          "output_type": "execute_result",
          "data": {
            "text/plain": [
              "id                     object\n",
              "created_at             object\n",
              "updated_at             object\n",
              "deleted_at             object\n",
              "name_hash              object\n",
              "email_hash             object\n",
              "address_hash           object\n",
              "birth_date             object\n",
              "status                 object\n",
              "version                object\n",
              "city                   object\n",
              "state                  object\n",
              "neighborhood           object\n",
              "last_date_purchase     object\n",
              "average_ticket        float64\n",
              "items_quantity          int64\n",
              "all_revenue           float64\n",
              "all_orders              int64\n",
              "recency                 int64\n",
              "marketing_source       object\n",
              "dtype: object"
            ]
          },
          "metadata": {},
          "execution_count": 8
        }
      ]
    },
    {
      "cell_type": "markdown",
      "source": [
        "Tipos das colunas de data deve ser convertido de \"object\" para \"datetime\". \n",
        "- Colunas afetadas: ['created_at','updated_at', 'deleted_at','birth_date','last_date_purchase']"
      ],
      "metadata": {
        "id": "aeEfUvk0nGca"
      }
    },
    {
      "cell_type": "markdown",
      "source": [
        "# Conversão de tipo das colunas de data"
      ],
      "metadata": {
        "id": "GcaqnFz3neqD"
      }
    },
    {
      "cell_type": "markdown",
      "source": [
        "A coluna 'birth_date' precisa ser convertida com uma correção no ano devido ao 'parse' de datas do pandas to_datetime()."
      ],
      "metadata": {
        "id": "LLNgxTQYyx-e"
      }
    },
    {
      "cell_type": "code",
      "source": [
        "df_case_raw['birth_date'] = pd.to_datetime(df_case_raw['birth_date'], format='%m/%d/%y %I:%M %p')"
      ],
      "metadata": {
        "id": "ko4gqpnw3mSO"
      },
      "execution_count": 9,
      "outputs": []
    },
    {
      "cell_type": "code",
      "source": [
        "from datetime import datetime"
      ],
      "metadata": {
        "id": "kFT2Yhpp_g4E"
      },
      "execution_count": 10,
      "outputs": []
    },
    {
      "cell_type": "code",
      "source": [
        "df_case_raw['birth_date'] = np.where(\n",
        "    df_case_raw['birth_date'].dt.year > datetime.today().year\n",
        "    , df_case_raw['birth_date'] - pd.offsets.DateOffset(years=100)\n",
        "    , df_case_raw['birth_date']\n",
        "    )"
      ],
      "metadata": {
        "id": "OTN01mva3_pl"
      },
      "execution_count": 12,
      "outputs": []
    },
    {
      "cell_type": "markdown",
      "source": [
        "As outras colunas de data ['created_at', 'updated_at',   'deleted_at', 'last_date_purchase'] podem ser convertidas para o tipo datetime normalmente."
      ],
      "metadata": {
        "id": "VORIy3ED5NJw"
      }
    },
    {
      "cell_type": "code",
      "source": [
        "df_date_columns = ['created_at','updated_at','deleted_at','last_date_purchase']"
      ],
      "metadata": {
        "id": "zANDsfDL8Ecc"
      },
      "execution_count": 13,
      "outputs": []
    },
    {
      "cell_type": "code",
      "source": [
        "df_case_raw[df_date_columns] = df_case_raw[df_date_columns].apply(\n",
        "    pd.to_datetime , format='%m/%d/%y %I:%M %p'\n",
        "    )"
      ],
      "metadata": {
        "id": "ARF5GATdhS10"
      },
      "execution_count": 14,
      "outputs": []
    },
    {
      "cell_type": "code",
      "source": [
        "df_case_processed = df_case_raw"
      ],
      "metadata": {
        "id": "SwRuevBr-AD4"
      },
      "execution_count": 15,
      "outputs": []
    },
    {
      "cell_type": "markdown",
      "source": [
        "Checando os tipos das colunas após conversão de tipo:"
      ],
      "metadata": {
        "id": "YeErXYFS9Hpw"
      }
    },
    {
      "cell_type": "code",
      "source": [
        "df_case_processed.dtypes"
      ],
      "metadata": {
        "colab": {
          "base_uri": "https://localhost:8080/"
        },
        "id": "9NJd2TtrlTxn",
        "outputId": "4ea01614-0570-4e34-afd8-86c7187cf4c9"
      },
      "execution_count": 16,
      "outputs": [
        {
          "output_type": "execute_result",
          "data": {
            "text/plain": [
              "id                            object\n",
              "created_at            datetime64[ns]\n",
              "updated_at            datetime64[ns]\n",
              "deleted_at            datetime64[ns]\n",
              "name_hash                     object\n",
              "email_hash                    object\n",
              "address_hash                  object\n",
              "birth_date            datetime64[ns]\n",
              "status                        object\n",
              "version                       object\n",
              "city                          object\n",
              "state                         object\n",
              "neighborhood                  object\n",
              "last_date_purchase    datetime64[ns]\n",
              "average_ticket               float64\n",
              "items_quantity                 int64\n",
              "all_revenue                  float64\n",
              "all_orders                     int64\n",
              "recency                        int64\n",
              "marketing_source              object\n",
              "dtype: object"
            ]
          },
          "metadata": {},
          "execution_count": 16
        }
      ]
    },
    {
      "cell_type": "markdown",
      "source": [
        "# Insights preliminares"
      ],
      "metadata": {
        "id": "j3fwBIUl91HI"
      }
    },
    {
      "cell_type": "markdown",
      "source": [
        "# Exportação dataset processado"
      ],
      "metadata": {
        "id": "ioYdpgwgiDHB"
      }
    },
    {
      "cell_type": "markdown",
      "source": [
        "Exportando o dataset com os tipos convertidos em formato \".csv\" para ser analisado com Power BI:"
      ],
      "metadata": {
        "id": "Ayh-M4RKVoS2"
      }
    },
    {
      "cell_type": "code",
      "source": [
        "#df_case_processed.to_csv(path + r\"data_test_analytics_processed.csv\", index = False)"
      ],
      "metadata": {
        "id": "HXlANstPiHhS"
      },
      "execution_count": 18,
      "outputs": []
    }
  ]
}